{
 "cells": [
  {
   "cell_type": "markdown",
   "id": "b8933409",
   "metadata": {},
   "source": [
    "## How to use the sequence verification tool"
   ]
  },
  {
   "cell_type": "markdown",
   "id": "adf5d6b2",
   "metadata": {},
   "source": [
    "### From CLI (intended)"
   ]
  },
  {
   "cell_type": "code",
   "execution_count": 10,
   "id": "80e8fefe",
   "metadata": {},
   "outputs": [
    {
     "name": "stdout",
     "output_type": "stream",
     "text": [
      "Verifying sequence files in: c:\\Users\\belav\\Documents\\GitHub\\Parameter-Optimization-for-Iterative-MINFLUX-Microscopy\\sequences\n",
      "\n",
      "Verification Results:\n",
      "name_duplicates: []\n",
      "sequence_duplicates: []\n",
      "name_id_mismatch: []\n",
      "\n",
      "Verification complete.\n"
     ]
    }
   ],
   "source": [
    "!python ./verify_sequences.py --dir ../sequences"
   ]
  },
  {
   "cell_type": "markdown",
   "id": "1147767a",
   "metadata": {},
   "source": [
    "### From Jupyter Notebook"
   ]
  },
  {
   "cell_type": "code",
   "execution_count": 3,
   "id": "7d9771ff",
   "metadata": {},
   "outputs": [],
   "source": [
    "## Dependencies\n",
    "from sequence_tools import MFXSequenceTools"
   ]
  },
  {
   "cell_type": "code",
   "execution_count": 5,
   "id": "657471be",
   "metadata": {},
   "outputs": [
    {
     "data": {
      "text/plain": [
       "{'name_duplicates': [], 'sequence_duplicates': [], 'name_id_mismatch': []}"
      ]
     },
     "execution_count": 5,
     "metadata": {},
     "output_type": "execute_result"
    }
   ],
   "source": [
    "## create a MFXSequenceTools object\n",
    "# the object will check the provided root directory for the presence of the MFX sequence files\n",
    "# and will create a list of the available sequences and their corresponding metadata\n",
    "# we will also use this to verify the sequence files to ensure there are no duplications or name mismatches\n",
    "\n",
    "# obj\n",
    "SeqTool: MFXSequenceTools = MFXSequenceTools(root=\"../sequences\")\n",
    "\n",
    "# check the sequences\n",
    "SeqTool.verify()"
   ]
  }
 ],
 "metadata": {
  "kernelspec": {
   "display_name": "MFX_data",
   "language": "python",
   "name": "python3"
  },
  "language_info": {
   "codemirror_mode": {
    "name": "ipython",
    "version": 3
   },
   "file_extension": ".py",
   "mimetype": "text/x-python",
   "name": "python",
   "nbconvert_exporter": "python",
   "pygments_lexer": "ipython3",
   "version": "3.11.10"
  }
 },
 "nbformat": 4,
 "nbformat_minor": 5
}
