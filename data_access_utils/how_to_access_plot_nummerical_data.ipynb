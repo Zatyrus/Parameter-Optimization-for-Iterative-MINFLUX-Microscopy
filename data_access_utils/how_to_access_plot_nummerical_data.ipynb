{
 "cells": [
  {
   "cell_type": "code",
   "execution_count": 4,
   "id": "196dc570",
   "metadata": {},
   "outputs": [],
   "source": [
    "# Dependencies\n",
    "import os\n",
    "from glob import glob\n",
    "import numpy as np\n",
    "from pprint import pprint"
   ]
  },
  {
   "cell_type": "markdown",
   "id": "7bad067a",
   "metadata": {},
   "source": [
    "## About the nummerical graph data\n",
    "We provide the nummerical data to each plot shown in our manuscript as `.npz` files. These files can be found in the `data/npz_files_graph_nummerical_values` folder. Each file contains a dictionary with keys that correspond to the different curves shown in the respective plot. The values are numpy arrays containing the x and y values of the curves or the distribution of values in the case of boxplots."
   ]
  },
  {
   "cell_type": "code",
   "execution_count": null,
   "id": "60c9c6e3",
   "metadata": {},
   "outputs": [
    {
     "name": "stdout",
     "output_type": "stream",
     "text": [
      "{'Figure_1_Panel_E_CRLB_data': ['x_nm',\n",
      "                                'PL10_L150_CRLB',\n",
      "                                'PL20_L150_CRLB',\n",
      "                                'PL50_L150_CRLB',\n",
      "                                'PL10_L75_CRLB',\n",
      "                                'PL20_L75_CRLB',\n",
      "                                'PL50_L75_CRLB'],\n",
      " 'Figure_1_Panel_F_TCP-Area-Coverage_data': ['D_um2s',\n",
      "                                             'L150_TCP_area_coverage_t50us',\n",
      "                                             'L150_TCP_area_coverage_t100us',\n",
      "                                             'L150_TCP_area_coverage_t200us',\n",
      "                                             'L150_TCP_area_coverage_t150us',\n",
      "                                             'L150_TCP_area_coverage_t300us',\n",
      "                                             'L150_TCP_area_coverage_t500us'],\n",
      " 'Figure_2_Panel_B_Turning-Angle-Distribution_data': ['theta',\n",
      "                                                      'PL10',\n",
      "                                                      'PL20',\n",
      "                                                      'PL50',\n",
      "                                                      'TIRF'],\n",
      " 'Figure_2_Panel_C_Dye-Diffusion-Coefficients_data': ['GUV_DMP5_time_diff_coeffs_um2',\n",
      "                                                      'GUV_DMP5_ensemble_diff_coeff_um2',\n",
      "                                                      'GUV_DMP5_average_time_diff_coeffs_um2',\n",
      "                                                      'GUV_DMP2_time_diff_coeffs_um2',\n",
      "                                                      'GUV_DMP2_ensemble_diff_coeff_um2',\n",
      "                                                      'GUV_DMP2_average_time_diff_coeffs_um2',\n",
      "                                                      'GUV_DMP0_time_diff_coeffs_um2',\n",
      "                                                      'GUV_DMP0_ensemble_diff_coeff_um2',\n",
      "                                                      'GUV_DMP0_average_time_diff_coeffs_um2',\n",
      "                                                      'GUV_PL10_time_diff_coeffs_um2'],\n",
      " 'Figure_2_Panel_C_TIRF-Diffusion-Coefficients_data': ['Lower_Lag_time_diff_coeffs_um2',\n",
      "                                                       'Lower_Lag_ensemble_diff_coeff_um2',\n",
      "                                                       'Lower_Lag_average_time_diff_coeffs_um2',\n",
      "                                                       'Literature_Reference_diff_coeff_um2'],\n",
      " 'Figure_2_Panel_D_GUV-QD-Ensemble-MSD_data': ['GUV_Patch_PL10_ensemble_MSD_um2',\n",
      "                                               'GUV_Patch_PL10_timeline_us',\n",
      "                                               'GUV_Patch_PL20_ensemble_MSD_um2',\n",
      "                                               'GUV_Patch_PL20_timeline_us',\n",
      "                                               'GUV_Patch_PL50_ensemble_MSD_um2',\n",
      "                                               'GUV_Patch_PL50_timeline_us'],\n",
      " 'Figure_2_Panel_E_GUV-QD-Diffusion-Coefficients_data': ['Lower_Lag_PL10_time_diff_coeffs_um2',\n",
      "                                                         'Lower_Lag_PL10_ensemble_diff_coeff_um2',\n",
      "                                                         'Lower_Lag_PL10_average_time_diff_coeffs_um2',\n",
      "                                                         'Lower_Lag_PL20_time_diff_coeffs_um2',\n",
      "                                                         'Lower_Lag_PL20_ensemble_diff_coeff_um2',\n",
      "                                                         'Lower_Lag_PL20_average_time_diff_coeffs_um2',\n",
      "                                                         'Lower_Lag_PL50_time_diff_coeffs_um2',\n",
      "                                                         'Lower_Lag_PL50_ensemble_diff_coeff_um2',\n",
      "                                                         'Lower_Lag_PL50_average_time_diff_coeffs_um2',\n",
      "                                                         'Upper_Lag_PL10_time_diff_coeffs_um2'],\n",
      " 'Figure_3_Panel_B_Dye-Diffusion-Coefficients_data': ['Upper_Lag_time_diff_coeffs_um2',\n",
      "                                                      'Upper_Lag_ensemble_diff_coeff_um2',\n",
      "                                                      'Upper_Lag_average_time_diff_coeffs_um2',\n",
      "                                                      'Literature_Reference_diff_coeff_um2'],\n",
      " 'Figure_3_Panel_B_Dye-MSD_data': ['Dye_PL10_ensemble_MSD_um2',\n",
      "                                   'Dye_PL10_ensemble_timeline_us',\n",
      "                                   'Dye_PL10_track_0_MSD_um2',\n",
      "                                   'Dye_PL10_track_0_timeline_us',\n",
      "                                   'Dye_PL10_track_1_MSD_um2',\n",
      "                                   'Dye_PL10_track_1_timeline_us',\n",
      "                                   'Dye_PL10_track_2_MSD_um2',\n",
      "                                   'Dye_PL10_track_2_timeline_us',\n",
      "                                   'Dye_PL10_track_3_MSD_um2',\n",
      "                                   'Dye_PL10_track_3_timeline_us'],\n",
      " 'Figure_3_Panel_C_Upper-Theoretical-Limit_data': ['Average_photon_detection_rate_kHz',\n",
      "                                                   'Dmax_L150_PL10_um2s',\n",
      "                                                   'Dmax_L150_PL20_um2s',\n",
      "                                                   'Dmax_L150_PL50_um2s',\n",
      "                                                   'Dmax_L75_PL10_um2s',\n",
      "                                                   'Dmax_L75_PL20_um2s',\n",
      "                                                   'Dmax_L75_PL50_um2s'],\n",
      " 'Figure_3_Panel_D_Upper-Theoretical-Limit-Zoom_data': ['Average_photon_detection_rate_kHz',\n",
      "                                                        'Dmax_L150_PL10_um2s',\n",
      "                                                        'Dmax_L150_PL20_um2s',\n",
      "                                                        'Dmax_L150_PL50_um2s']}\n"
     ]
    }
   ],
   "source": [
    "## Grab data\n",
    "root: str = \"../data/npz_files_graph_nummerical_values\"\n",
    "files = glob(os.path.join(root, \"*.npz\"))\n",
    "\n",
    "## Load data\n",
    "data = {os.path.basename(f).replace(\".npz\", \"\"): np.load(f) for f in files}\n",
    "\n",
    "## Inspect data\n",
    "display_cap: int = 10  # <-- how many keys to display per file\n",
    "pprint({k: list(v.keys())[:display_cap] for k, v in data.items()})"
   ]
  },
  {
   "cell_type": "code",
   "execution_count": 9,
   "id": "f8fa426a",
   "metadata": {},
   "outputs": [
    {
     "name": "stdout",
     "output_type": "stream",
     "text": [
      "Example file key: Figure_1_Panel_E_CRLB_data\n",
      "Example data key: x_nm\n",
      "Example values type: <class 'numpy.ndarray'>\n",
      "Example values shape: (1000,)\n",
      "Example values: [0.        0.1001001 0.2002002 0.3003003 0.4004004 0.5005005 0.6006006\n",
      " 0.7007007 0.8008008 0.9009009]\n"
     ]
    }
   ],
   "source": [
    "## Access data\n",
    "example_file_key = list(data.keys())[0]\n",
    "print(f\"Example file key: {example_file_key}\")\n",
    "\n",
    "example_data = data[example_file_key]\n",
    "example_data_key = list(example_data.keys())[0]\n",
    "print(f\"Example data key: {example_data_key}\")\n",
    "\n",
    "example_values = example_data[example_data_key]\n",
    "print(f\"Example values type: {type(example_values)}\")\n",
    "print(f\"Example values shape: {example_values.shape}\")\n",
    "print(f\"Example values: {example_values[:display_cap]}\")  # print first few values"
   ]
  }
 ],
 "metadata": {
  "kernelspec": {
   "display_name": "Python 3",
   "language": "python",
   "name": "python3"
  },
  "language_info": {
   "codemirror_mode": {
    "name": "ipython",
    "version": 3
   },
   "file_extension": ".py",
   "mimetype": "text/x-python",
   "name": "python",
   "nbconvert_exporter": "python",
   "pygments_lexer": "ipython3",
   "version": "3.9.9"
  }
 },
 "nbformat": 4,
 "nbformat_minor": 5
}
